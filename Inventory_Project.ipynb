{
 "cells": [
  {
   "cell_type": "code",
   "execution_count": 3,
   "id": "d2a22dbc-45b9-4c86-8c85-7b34ec4a6ad8",
   "metadata": {},
   "outputs": [
    {
     "data": {
      "text/plain": [
       "[{'id': 1, 'name': 'Laptop', 'stock': 10, 'price': 1200, 'reorder_level': 5},\n",
       " {'id': 2, 'name': 'Mouse', 'stock': 50, 'price': 20, 'reorder_level': 10},\n",
       " {'id': 3, 'name': 'Keyboard', 'stock': 30, 'price': 40, 'reorder_level': 8}]"
      ]
     },
     "execution_count": 3,
     "metadata": {},
     "output_type": "execute_result"
    }
   ],
   "source": [
    "# Step 1: Create a simple inventory dataset\n",
    "\n",
    "inventory = [\n",
    "    {\"id\": 1, \"name\": \"Laptop\", \"stock\": 10, \"price\": 1200, \"reorder_level\": 5},\n",
    "    {\"id\": 2, \"name\": \"Mouse\", \"stock\": 50, \"price\": 20, \"reorder_level\": 10},\n",
    "    {\"id\": 3, \"name\": \"Keyboard\", \"stock\": 30, \"price\": 40, \"reorder_level\": 8},\n",
    "]\n",
    "\n",
    "inventory\n"
   ]
  },
  {
   "cell_type": "code",
   "execution_count": 5,
   "id": "ed88586e-8fd6-4e7f-ba85-441c33457d75",
   "metadata": {},
   "outputs": [
    {
     "name": "stdout",
     "output_type": "stream",
     "text": [
      "\n",
      "Current Inventory:\n",
      "1 - Laptop | Stock: 10 | Price: $1200\n",
      "2 - Mouse | Stock: 50 | Price: $20\n",
      "3 - Keyboard | Stock: 30 | Price: $40\n"
     ]
    }
   ],
   "source": [
    "# Step 2: viewing the inventory\n",
    "\n",
    "def view_inventory():\n",
    "    print(\"\\nCurrent Inventory:\")\n",
    "    for item in inventory:\n",
    "        print(f\"{item['id']} - {item['name']} | Stock: {item['stock']} | Price: ${item['price']}\")\n",
    "view_inventory()"
   ]
  },
  {
   "cell_type": "code",
   "execution_count": 7,
   "id": "51ec338d-d519-4aaa-91d2-65916d47b298",
   "metadata": {},
   "outputs": [],
   "source": [
    "# Step 3: Add a New Product\n",
    "\n",
    "def add_product(id, name, stock, price, reorder_level):\n",
    "    inventory.append({\"id\": id, \"name\": name, \"stock\": stock, \"price\": price, \"reorder_level\": reorder_level})\n",
    "    print(f\" Product {name} added successfully!\")"
   ]
  },
  {
   "cell_type": "code",
   "execution_count": 21,
   "id": "9a3881a7-6af3-4312-b318-9ed71523961c",
   "metadata": {},
   "outputs": [
    {
     "name": "stdout",
     "output_type": "stream",
     "text": [
      " Product Monitor added successfully!\n",
      "\n",
      "Current Inventory:\n",
      "1 - Laptop | Stock: 7 | Price: $1200\n",
      "2 - Mouse | Stock: 50 | Price: $20\n",
      "3 - Keyboard | Stock: 30 | Price: $40\n",
      "4 - Monitor | Stock: 15 | Price: $200\n"
     ]
    }
   ],
   "source": [
    "add_product(4,\"Monitor\", 15, 200, 5)\n",
    "view_inventory()"
   ]
  },
  {
   "cell_type": "code",
   "execution_count": 41,
   "id": "f653352b-9cf8-45f1-85f3-f81b1d36d3af",
   "metadata": {},
   "outputs": [],
   "source": [
    "# step 4: update stock fucntion\n",
    "\n",
    "def update_stock(id, quantity):\n",
    "    for item in inventory:  # loop throught all product\n",
    "        if item['id'] == id:  # find the product with macthing id\n",
    "            item['stock'] += quantity  # update stock\n",
    "            print(f\" updated {item['name']} stock to {item['stock']}\")\n",
    "            return # stops the loop once we found the product\n",
    "    print(\"product not found!\") # if no product matches the ID"
   ]
  },
  {
   "cell_type": "code",
   "execution_count": 27,
   "id": "d8d0b312-9f92-496e-b407-9c5af873fc87",
   "metadata": {},
   "outputs": [
    {
     "name": "stdout",
     "output_type": "stream",
     "text": [
      " updated Laptop stock to 7\n",
      "\n",
      "Current Inventory:\n",
      "1 - Laptop | Stock: 7 | Price: $1200\n",
      "2 - Mouse | Stock: 50 | Price: $20\n",
      "3 - Keyboard | Stock: 30 | Price: $40\n",
      "4 - Monitor | Stock: 15 | Price: $200\n"
     ]
    }
   ],
   "source": [
    "update_stock(1, -3)\n",
    "view_inventory()"
   ]
  },
  {
   "cell_type": "code",
   "execution_count": 29,
   "id": "9d44da4d-24de-4b11-a47a-7f745e46fb06",
   "metadata": {},
   "outputs": [
    {
     "name": "stdout",
     "output_type": "stream",
     "text": [
      " updated Keyboard stock to 18\n",
      "\n",
      "Current Inventory:\n",
      "1 - Laptop | Stock: 7 | Price: $1200\n",
      "2 - Mouse | Stock: 50 | Price: $20\n",
      "3 - Keyboard | Stock: 18 | Price: $40\n",
      "4 - Monitor | Stock: 15 | Price: $200\n"
     ]
    }
   ],
   "source": [
    "update_stock(3, -12)\n",
    "view_inventory()"
   ]
  },
  {
   "cell_type": "code",
   "execution_count": 31,
   "id": "c7534cc3-4d36-4700-95a5-67358b5ada18",
   "metadata": {},
   "outputs": [
    {
     "name": "stdout",
     "output_type": "stream",
     "text": [
      " updated Monitor stock to 25\n",
      "\n",
      "Current Inventory:\n",
      "1 - Laptop | Stock: 7 | Price: $1200\n",
      "2 - Mouse | Stock: 50 | Price: $20\n",
      "3 - Keyboard | Stock: 18 | Price: $40\n",
      "4 - Monitor | Stock: 25 | Price: $200\n"
     ]
    }
   ],
   "source": [
    "update_stock(4, 10)\n",
    "view_inventory()"
   ]
  },
  {
   "cell_type": "code",
   "execution_count": 33,
   "id": "2240cac7-087c-4afa-b423-240439b3f6c8",
   "metadata": {},
   "outputs": [
    {
     "name": "stdout",
     "output_type": "stream",
     "text": [
      "product not found!\n",
      "\n",
      "Current Inventory:\n",
      "1 - Laptop | Stock: 7 | Price: $1200\n",
      "2 - Mouse | Stock: 50 | Price: $20\n",
      "3 - Keyboard | Stock: 18 | Price: $40\n",
      "4 - Monitor | Stock: 25 | Price: $200\n"
     ]
    }
   ],
   "source": [
    "update_stock(7, 2)\n",
    "view_inventory()"
   ]
  },
  {
   "cell_type": "code",
   "execution_count": 39,
   "id": "43591fde-03b7-4e52-afe3-2951e470b853",
   "metadata": {},
   "outputs": [
    {
     "name": "stdout",
     "output_type": "stream",
     "text": [
      " updated Laptop stock to 22\n",
      " updated Mouse stock to 33\n",
      " updated Keyboard stock to 16\n",
      " updated Monitor stock to 24\n",
      "\n",
      "Current Inventory:\n",
      "1 - Laptop | Stock: 22 | Price: $1200\n",
      "2 - Mouse | Stock: 33 | Price: $20\n",
      "3 - Keyboard | Stock: 16 | Price: $40\n",
      "4 - Monitor | Stock: 24 | Price: $200\n"
     ]
    }
   ],
   "source": [
    "update_stock(1, 5) # recevied 5 laptops\n",
    "update_stock(2, -17) # sold 17 mouses\n",
    "update_stock(3, -2) # sold 2 keyboards\n",
    "update_stock(4, -1) # sold 1 monitor\n",
    "view_inventory()"
   ]
  },
  {
   "cell_type": "code",
   "execution_count": 15,
   "id": "eb111491-7deb-45ab-85c2-b22b9eef58bb",
   "metadata": {},
   "outputs": [
    {
     "name": "stdout",
     "output_type": "stream",
     "text": [
      " updated Laptop stock to -5\n"
     ]
    }
   ],
   "source": [
    "update_stock(1, -15) # making correction to laptop inventory"
   ]
  },
  {
   "cell_type": "code",
   "execution_count": 17,
   "id": "1fcc4f62-71ff-4baf-8493-5eb02c187087",
   "metadata": {},
   "outputs": [
    {
     "name": "stdout",
     "output_type": "stream",
     "text": [
      "\n",
      "Current Inventory:\n",
      "1 - Laptop | Stock: -5 | Price: $1200\n",
      "2 - Mouse | Stock: 50 | Price: $20\n",
      "3 - Keyboard | Stock: 30 | Price: $40\n"
     ]
    }
   ],
   "source": [
    "view_inventory()"
   ]
  },
  {
   "cell_type": "code",
   "execution_count": 25,
   "id": "cc2d2efa-3147-451c-a0b7-8e28c359fc97",
   "metadata": {},
   "outputs": [
    {
     "name": "stdout",
     "output_type": "stream",
     "text": [
      " updated Laptop stock to 7\n",
      "\n",
      "Current Inventory:\n",
      "1 - Laptop | Stock: 7 | Price: $1200\n",
      "2 - Mouse | Stock: 50 | Price: $20\n",
      "3 - Keyboard | Stock: 30 | Price: $40\n",
      "4 - Monitor | Stock: 15 | Price: $200\n"
     ]
    }
   ],
   "source": [
    "update_stock(1, -12) # laptop stock number \n",
    "view_inventory()"
   ]
  },
  {
   "cell_type": "code",
   "execution_count": 43,
   "id": "b311aa7d-f2d5-4f90-b708-a14050adc6aa",
   "metadata": {},
   "outputs": [],
   "source": [
    "# step 5 creating reorder level function\n",
    "\n",
    "def check_reorder(): \n",
    "    print(\"products that need reordering:\")\n",
    "    for item in inventory:\n",
    "        if item['stock'] <= item['reorder_level']:\n",
    "            print(f\"{item['name']} (stock: {item['stock']}, reorder level: {item['reorder_level']})\")"
   ]
  },
  {
   "cell_type": "code",
   "execution_count": 29,
   "id": "72caad71-adc6-41e4-bc37-60ea390f1a43",
   "metadata": {},
   "outputs": [
    {
     "name": "stdout",
     "output_type": "stream",
     "text": [
      "products that need reordering:\n"
     ]
    }
   ],
   "source": [
    "check_reorder()"
   ]
  },
  {
   "cell_type": "code",
   "execution_count": 35,
   "id": "4c075ff5-e201-4fa5-9504-23184e0a2dd7",
   "metadata": {},
   "outputs": [
    {
     "name": "stdout",
     "output_type": "stream",
     "text": [
      " updated Mouse stock to 2\n",
      " updated Keyboard stock to 1\n",
      "products that need reordering:\n",
      "Mouse (stock: 2, reorder level: 10)\n",
      "Keyboard (stock: 1, reorder level: 8)\n"
     ]
    }
   ],
   "source": [
    "update_stock(2, -48)\n",
    "update_stock(3, -29)\n",
    "check_reorder()"
   ]
  },
  {
   "cell_type": "code",
   "execution_count": 37,
   "id": "7a400228-3d7c-47bb-8863-a008a0bdc0cb",
   "metadata": {},
   "outputs": [
    {
     "name": "stdout",
     "output_type": "stream",
     "text": [
      "\n",
      "Current Inventory:\n",
      "1 - Laptop | Stock: 7 | Price: $1200\n",
      "2 - Mouse | Stock: 2 | Price: $20\n",
      "3 - Keyboard | Stock: 1 | Price: $40\n",
      "4 - Monitor | Stock: 15 | Price: $200\n"
     ]
    }
   ],
   "source": [
    "view_inventory()"
   ]
  },
  {
   "cell_type": "code",
   "execution_count": null,
   "id": "5e377dcb-dec4-4306-8579-da55a7ce1a7b",
   "metadata": {},
   "outputs": [],
   "source": []
  },
  {
   "cell_type": "code",
   "execution_count": null,
   "id": "7d6b7dc7-644b-4cef-b664-a43d4e966a61",
   "metadata": {},
   "outputs": [],
   "source": []
  },
  {
   "cell_type": "code",
   "execution_count": null,
   "id": "6030f7a5-af5d-471c-b611-1ee6f92b885f",
   "metadata": {},
   "outputs": [],
   "source": []
  },
  {
   "cell_type": "code",
   "execution_count": null,
   "id": "b7f16f50-68ea-44d5-aac0-a8e1dd2f564e",
   "metadata": {},
   "outputs": [],
   "source": []
  }
 ],
 "metadata": {
  "kernelspec": {
   "display_name": "Python [conda env:base] *",
   "language": "python",
   "name": "conda-base-py"
  },
  "language_info": {
   "codemirror_mode": {
    "name": "ipython",
    "version": 3
   },
   "file_extension": ".py",
   "mimetype": "text/x-python",
   "name": "python",
   "nbconvert_exporter": "python",
   "pygments_lexer": "ipython3",
   "version": "3.12.7"
  }
 },
 "nbformat": 4,
 "nbformat_minor": 5
}
